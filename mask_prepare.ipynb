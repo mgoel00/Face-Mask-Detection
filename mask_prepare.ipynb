{
 "cells": [
  {
   "cell_type": "code",
   "execution_count": 11,
   "metadata": {},
   "outputs": [
    {
     "name": "stderr",
     "output_type": "stream",
     "text": [
      "c:\\users\\goelm\\anaconda3\\envs\\cv\\lib\\site-packages\\ipykernel_launcher.py:12: DeprecationWarning: elementwise != comparison failed; this will raise an error in the future.\n",
      "  if sys.path[0] == '':\n",
      "c:\\users\\goelm\\anaconda3\\envs\\cv\\lib\\site-packages\\ipykernel_launcher.py:15: DeprecationWarning: elementwise != comparison failed; this will raise an error in the future.\n",
      "  from ipykernel import kernelapp as app\n"
     ]
    }
   ],
   "source": [
    "import cv2\n",
    "import os\n",
    "import numpy\n",
    "entries = os.listdir('dataset/validation/with_mask/')\n",
    "face_extractor = cv2.CascadeClassifier('haarcascade_frontalface_default.xml')\n",
    "new_path = 'dataset/validation/with_mask_new/'\n",
    "os.mkdir(new_path)\n",
    "count = 1\n",
    "for entry in entries:\n",
    "    \n",
    "    frame = cv2.imread('dataset/validation/with_mask/'+entry)\n",
    "    if frame != ():\n",
    "        \n",
    "        dim = face_extractor.detectMultiScale(frame)\n",
    "        if dim != ():\n",
    "            for f in dim:\n",
    "                x1, y1, w, h = [v for v in f]\n",
    "                face =  frame[ y1:y1+h+1 , x1:x1+w+1]\n",
    "                cv2.imshow('frame',face)\n",
    "                cv2.waitKey(1)\n",
    "                cv2.destroyAllWindows()\n",
    "                face = cv2.resize(face,(48,48))\n",
    "                file_name_path = new_path + str(count) + '.jpg'\n",
    "                cv2.imwrite(file_name_path,face)\n",
    "                count+=1\n",
    "\n",
    "    "
   ]
  },
  {
   "cell_type": "code",
   "execution_count": null,
   "metadata": {},
   "outputs": [],
   "source": [
    "\n"
   ]
  }
 ],
 "metadata": {
  "kernelspec": {
   "display_name": "Python 3",
   "language": "python",
   "name": "python3"
  },
  "language_info": {
   "codemirror_mode": {
    "name": "ipython",
    "version": 3
   },
   "file_extension": ".py",
   "mimetype": "text/x-python",
   "name": "python",
   "nbconvert_exporter": "python",
   "pygments_lexer": "ipython3",
   "version": "3.6.10"
  }
 },
 "nbformat": 4,
 "nbformat_minor": 2
}
